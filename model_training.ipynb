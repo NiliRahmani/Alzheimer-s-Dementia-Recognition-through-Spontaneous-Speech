{
  "nbformat": 4,
  "nbformat_minor": 0,
  "metadata": {
    "colab": {
      "name": "Copy of model_training.ipynb",
      "provenance": [],
      "collapsed_sections": []
    },
    "kernelspec": {
      "display_name": "Python 3",
      "name": "python3"
    },
    "language_info": {
      "name": "python"
    }
  },
  "cells": [
    {
      "cell_type": "code",
      "metadata": {
        "colab": {
          "base_uri": "https://localhost:8080/"
        },
        "id": "EscGJwsjTIwE",
        "outputId": "fd80c69f-b559-4414-8d8b-b034a77e615e"
      },
      "source": [
        "from google.colab import drive\n",
        "drive.mount('/content/drive')"
      ],
      "execution_count": null,
      "outputs": [
        {
          "output_type": "stream",
          "name": "stdout",
          "text": [
            "Mounted at /content/drive\n"
          ]
        }
      ]
    },
    {
      "cell_type": "markdown",
      "metadata": {
        "id": "nWsS1CzHS33s"
      },
      "source": [
        "##**Random Forest**"
      ]
    },
    {
      "cell_type": "code",
      "metadata": {
        "id": "YDy4dQZKv68t"
      },
      "source": [
        "import pandas as pd\n",
        "import numpy as np\n",
        "from sklearn.metrics import confusion_matrix\n",
        "from sklearn.ensemble import RandomForestClassifier\n",
        "from sklearn.model_selection import train_test_split , cross_val_score , GridSearchCV\n",
        "from sklearn import preprocessing\n",
        "from sklearn.metrics import accuracy_score"
      ],
      "execution_count": null,
      "outputs": []
    },
    {
      "cell_type": "markdown",
      "metadata": {
        "id": "JUY9eYR6t-Ni"
      },
      "source": [
        "# AD/CN class"
      ]
    },
    {
      "cell_type": "code",
      "metadata": {
        "colab": {
          "base_uri": "https://localhost:8080/"
        },
        "outputId": "ae19bde6-1031-4b21-9ddb-c82653ad09fb",
        "id": "D9stk5U7EHMt"
      },
      "source": [
        "df_tot = pd.read_csv('/content/drive/My Drive/Speech project - Alzheimer/features_segmented55_2.csv')\n",
        "df_tot = df_tot.set_index(['ID'])\n",
        "df_tot = df_tot.dropna()\n",
        "X = df_tot[['MFCC2', 'kurt_MFCC30', 'mean_MFCC30', 'skew_MFCC2', 'mean_MFCC16',\n",
        "       'flt_bnk_eng22', 'MFCC30', 'kurt_MFCC16', 'flt_bnk_eng2','flt_bnk_eng24', 'MFCC1', 'flt_bnk_eng15', 'kurt_MFCC2',\n",
        "       'flt_bnk_eng20', 'flt_bnk_eng13', 'n_sil_segments', 'frac_silence','min_sil_len', 'jitter', 'shimmer', 'HNR']] #, 'auto_correlation']]\n",
        "y = df_tot[['ad/cn']]\n",
        "\n",
        "import warnings\n",
        "warnings.filterwarnings(\"ignore\")\n",
        "\n",
        "cv = 8\n",
        "\n",
        "X_train, X_test, y_train, y_test = train_test_split(X, y, random_state = 0 , train_size=0.8)\n",
        "\n",
        "X = X_train\n",
        "y = y_train\n",
        "\n",
        "scaler = preprocessing.StandardScaler().fit(X)\n",
        "X_scaled = scaler.transform(X)\n",
        "X_test_scaled = scaler.transform(X_test)\n",
        "\n",
        "clf2 = RandomForestClassifier(random_state = 0)\n",
        "clf2 = GridSearchCV(clf2 , param_grid={'max_features' : [19,20,21,22], 'n_estimators':[700,1000,1200,1500]},cv=cv) # ,random_state=0)\n",
        "clf2.fit(X,y.values.ravel())\n",
        "print('GridSearchCV Results : ')\n",
        "print('Best Accuracy occured whith: ',clf2.best_params_)"
      ],
      "execution_count": null,
      "outputs": [
        {
          "output_type": "stream",
          "name": "stdout",
          "text": [
            "GridSearchCV Results : \n",
            "Best Accuracy occured whith:  {'max_features': 21, 'n_estimators': 1000}\n"
          ]
        }
      ]
    },
    {
      "cell_type": "code",
      "metadata": {
        "colab": {
          "base_uri": "https://localhost:8080/",
          "height": 404
        },
        "outputId": "a94e711b-e14a-4810-a1c2-d7ebafc6356a",
        "id": "Zjgz1v8sEHMu"
      },
      "source": [
        "\n",
        "clf = RandomForestClassifier(max_features = 20, random_state = 0 , n_estimators=800 )\n",
        "model = clf.fit(X_scaled, y.values.ravel())#y)\n",
        "\n",
        "scores_acc = cross_val_score(clf, X_scaled, y.values.ravel(), cv=cv)\n",
        "scores_auc = cross_val_score(clf, X_scaled, y, cv=cv, scoring = 'roc_auc')\n",
        "scores_rec = cross_val_score(clf, X_scaled, y, cv=cv, scoring = 'recall')\n",
        "scores_pre = cross_val_score(clf, X_scaled, y, cv=cv, scoring = 'precision')\n",
        "\n",
        "print('\\n \\n Cross_Validation Results : ')\n",
        "print(\"%0.3f accuracy with a standard deviation of %0.3f\" % (scores_acc.mean(), scores_acc.std()))\n",
        "print(\"%0.3f AUC with a standard deviation of %0.3f\" % (scores_auc.mean(), scores_auc.std()))\n",
        "print(\"%0.3f Recall with a standard deviation of %0.3f\" % (scores_rec.mean(), scores_rec.std()))\n",
        "print(\"%0.3f Precision with a standard deviation of %0.3f\" % (scores_pre.mean(), scores_pre.std()))\n",
        "\n",
        "from sklearn.metrics import roc_curve\n",
        "import matplotlib.pyplot as plt\n",
        "\n",
        "test_probs = clf.predict_proba(X_test_scaled)\n",
        "fpr, tpr, _ = roc_curve(y_test, test_probs[:, 1])\n",
        "\n",
        "plt.plot(fpr,tpr)"
      ],
      "execution_count": null,
      "outputs": [
        {
          "output_type": "stream",
          "name": "stdout",
          "text": [
            "\n",
            " \n",
            " Cross_Validation Results : \n",
            "0.822 accuracy with a standard deviation of 0.023\n",
            "0.893 AUC with a standard deviation of 0.018\n",
            "0.814 Recall with a standard deviation of 0.037\n",
            "0.816 Precision with a standard deviation of 0.036\n"
          ]
        },
        {
          "output_type": "execute_result",
          "data": {
            "text/plain": [
              "[<matplotlib.lines.Line2D at 0x7f1183158250>]"
            ]
          },
          "metadata": {},
          "execution_count": 16
        },
        {
          "output_type": "display_data",
          "data": {
            "image/png": "[encoded data removed]",
            "text/plain": [
              "<Figure size 432x288 with 1 Axes>"
            ]
          },
          "metadata": {
            "needs_background": "light"
          }
        }
      ]
    },
    {
      "cell_type": "code",
      "source": [
        "from sklearn.metrics import plot_confusion_matrix\n",
        "plot_confusion_matrix(clf ,X_test_scaled, y_test) #, clf.predict(X_test_scaled))"
      ],
      "metadata": {
        "colab": {
          "base_uri": "https://localhost:8080/",
          "height": 297
        },
        "id": "nKS3Y1J_kygc",
        "outputId": "66a26b4b-3e6f-4b7c-8e2e-875d8f55a295"
      },
      "execution_count": null,
      "outputs": [
        {
          "output_type": "execute_result",
          "data": {
            "text/plain": [
              "<sklearn.metrics._plot.confusion_matrix.ConfusionMatrixDisplay at 0x7f11830bcd10>"
            ]
          },
          "metadata": {},
          "execution_count": 17
        },
        {
          "output_type": "display_data",
          "data": {
            "image/png": "[encoded data removed]",
            "text/plain": [
              "<Figure size 432x288 with 2 Axes>"
            ]
          },
          "metadata": {
            "needs_background": "light"
          }
        }
      ]
    },
    {
      "cell_type": "markdown",
      "source": [
        "## Stages main model"
      ],
      "metadata": {
        "id": "7ATiZLrFHSLf"
      }
    },
    {
      "cell_type": "code",
      "source": [
        "df_tot = pd.read_csv('/content/drive/My Drive/Speech project - Alzheimer/features_segmented55_2.csv')\n",
        "df_tot = df_tot.set_index(['ID'])\n",
        "df_tot = df_tot.dropna()\n",
        "X = df_tot[['MFCC2', 'kurt_MFCC30', 'mean_MFCC30', 'skew_MFCC2', 'mean_MFCC16',\n",
        "       'flt_bnk_eng22', 'MFCC30', 'kurt_MFCC16', 'flt_bnk_eng2','flt_bnk_eng24', 'MFCC1', 'flt_bnk_eng15', 'kurt_MFCC2',\n",
        "       'flt_bnk_eng20', 'flt_bnk_eng13', 'n_sil_segments', 'frac_silence','min_sil_len', 'jitter', 'shimmer', 'HNR']] #, 'auto_correlation']]\n",
        "y = df_tot[['Stage class']]\n",
        "\n",
        "import warnings\n",
        "warnings.filterwarnings(\"ignore\")\n",
        "\n",
        "cv = 8\n",
        "\n",
        "X_train, X_test, y_train, y_test = train_test_split(X, y, random_state = 0 , train_size=0.8)\n",
        "\n",
        "X = X_train\n",
        "y = y_train\n",
        "\n",
        "scaler = preprocessing.StandardScaler().fit(X)\n",
        "X_scaled = scaler.transform(X)\n",
        "X_test_scaled = scaler.transform(X_test)\n",
        "\n",
        "clf2 = RandomForestClassifier(random_state = 0)\n",
        "clf2 = GridSearchCV(clf2 , param_grid={'max_features' : [19,20,21,22], 'n_estimators':[700,1000,1200,1500]},cv=cv) # ,random_state=0)\n",
        "clf2.fit(X,y.values.ravel())\n",
        "print('GridSearchCV Results : ')\n",
        "print('Best Accuracy occured whith: ',clf2.best_params_)\n"
      ],
      "metadata": {
        "colab": {
          "base_uri": "https://localhost:8080/"
        },
        "id": "FqSkzqboHRtT",
        "outputId": "d6104822-7331-4e98-f490-4b447ed9b22b"
      },
      "execution_count": null,
      "outputs": [
        {
          "output_type": "stream",
          "name": "stdout",
          "text": [
            "GridSearchCV Results : \n",
            "Best Accuracy occured whith:  {'max_features': 21, 'n_estimators': 700}\n"
          ]
        }
      ]
    },
    {
      "cell_type": "code",
      "source": [
        "clf = RandomForestClassifier(max_features = 20, random_state = 0 , n_estimators=800 )\n",
        "model = clf.fit(X_scaled, y.values.ravel())#y)\n",
        "\n",
        "scores_acc = cross_val_score(clf, X_scaled, y.values.ravel(), cv=cv)\n",
        "scores_auc = cross_val_score(clf, X_scaled, y, cv=cv, scoring = 'roc_auc')\n",
        "scores_rec = cross_val_score(clf, X_scaled, y, cv=cv, scoring = 'recall')\n",
        "scores_pre = cross_val_score(clf, X_scaled, y, cv=cv, scoring = 'precision')\n",
        "\n",
        "print('\\n \\n Cross_Validation Results : ')\n",
        "print(\"%0.3f accuracy with a standard deviation of %0.3f\" % (scores_acc.mean(), scores_acc.std()))\n",
        "print(\"%0.3f AUC with a standard deviation of %0.3f\" % (scores_auc.mean(), scores_auc.std()))\n",
        "print(\"%0.3f Recall with a standard deviation of %0.3f\" % (scores_rec.mean(), scores_rec.std()))\n",
        "print(\"%0.3f Precision with a standard deviation of %0.3f\" % (scores_pre.mean(), scores_pre.std()))\n"
      ],
      "metadata": {
        "colab": {
          "base_uri": "https://localhost:8080/"
        },
        "id": "cJSl5CftHRhw",
        "outputId": "2db20e97-5712-476f-88da-1895936165dc"
      },
      "execution_count": null,
      "outputs": [
        {
          "output_type": "stream",
          "name": "stdout",
          "text": [
            "\n",
            " \n",
            " Cross_Validation Results : \n",
            "0.715 accuracy with a standard deviation of 0.019\n",
            "nan AUC with a standard deviation of nan\n",
            "nan Recall with a standard deviation of nan\n",
            "nan Precision with a standard deviation of nan\n"
          ]
        }
      ]
    },
    {
      "cell_type": "code",
      "source": [
        "from sklearn.metrics import plot_confusion_matrix\n",
        "plot_confusion_matrix(clf ,X_test_scaled, y_test) #, clf.predict(X_test_scaled))"
      ],
      "metadata": {
        "colab": {
          "base_uri": "https://localhost:8080/",
          "height": 297
        },
        "id": "WTsXhSxrIWl6",
        "outputId": "79fa22ea-9cf7-4164-b621-5ba57d07b77d"
      },
      "execution_count": null,
      "outputs": [
        {
          "output_type": "execute_result",
          "data": {
            "text/plain": [
              "<sklearn.metrics._plot.confusion_matrix.ConfusionMatrixDisplay at 0x7f118934fd90>"
            ]
          },
          "metadata": {},
          "execution_count": 20
        },
        {
          "output_type": "display_data",
          "data": {
            "image/png": "[encoded data removed]",
            "text/plain": [
              "<Figure size 432x288 with 2 Axes>"
            ]
          },
          "metadata": {
            "needs_background": "light"
          }
        }
      ]
    },
    {
      "cell_type": "markdown",
      "source": [
        "# Logistic Regression model "
      ],
      "metadata": {
        "id": "tWA1dBIqhrCV"
      }
    },
    {
      "cell_type": "code",
      "source": [
        "from sklearn.linear_model import LogisticRegression\n",
        "\n",
        "df_tot = pd.read_csv('/content/drive/My Drive/Speech project - Alzheimer/features_segmented55_2.csv')\n",
        "df_tot = df_tot.set_index(['ID'])\n",
        "df_tot = df_tot.dropna()\n",
        "X = df_tot[['MFCC2', 'kurt_MFCC30', 'mean_MFCC30', 'skew_MFCC2', 'mean_MFCC16',\n",
        "       'flt_bnk_eng22', 'MFCC30', 'kurt_MFCC16', 'flt_bnk_eng2','flt_bnk_eng24', 'MFCC1', 'flt_bnk_eng15', 'kurt_MFCC2',\n",
        "       'flt_bnk_eng20', 'flt_bnk_eng13', 'n_sil_segments', 'frac_silence','min_sil_len', 'jitter', 'shimmer', 'HNR']] #, 'auto_correlation']]\n",
        "y = df_tot[['ad/cn']]\n",
        "\n",
        "import warnings\n",
        "warnings.filterwarnings(\"ignore\")\n",
        "\n",
        "cv = 8\n",
        "\n",
        "X_train, X_test, y_train, y_test = train_test_split(X, y, random_state = 0 , train_size=0.8)\n",
        "\n",
        "X = X_train\n",
        "y = y_train\n",
        "\n",
        "scaler = preprocessing.StandardScaler().fit(X)\n",
        "X_scaled = scaler.transform(X)\n",
        "X_test_scaled = scaler.transform(X_test)\n",
        "\n",
        "clf2 = LogisticRegression(random_state =0)\n",
        "clf2 = GridSearchCV(clf2 , param_grid={'penalty':['l1', 'l2'],'solver':['newton-cg', 'lbfgs', 'liblinear', 'sa', 'saga'] },cv=8) # ,random_state=0) #\n",
        "clf2.fit(X,y.values.ravel())\n",
        "print('GridSearchCV Results : ')\n",
        "print('Best Accuracy occured whith: ',clf2.best_params_)\n",
        "\n",
        "\n",
        "clf = LogisticRegression(solver='liblinear', penalty='l2' , random_state = 0)#RandomForestClassifier(max_features = 20, random_state = 0 , n_estimators=800 )\n",
        "model = clf.fit(X_scaled, y.values.ravel())#y)\n",
        "\n",
        "\n",
        "scores_acc = cross_val_score(clf, X_scaled, y.values.ravel(), cv=cv)\n",
        "scores_auc = cross_val_score(clf, X_scaled, y, cv=cv, scoring = 'roc_auc')\n",
        "scores_rec = cross_val_score(clf, X_scaled, y, cv=cv, scoring = 'recall')\n",
        "scores_pre = cross_val_score(clf, X_scaled, y, cv=cv, scoring = 'precision')\n",
        "\n",
        "\n",
        "print('\\n \\n Cross_Validation Results : ')\n",
        "print(\"%0.3f accuracy with a standard deviation of %0.3f\" % (scores_acc.mean(), scores_acc.std()))\n",
        "print(\"%0.3f AUC with a standard deviation of %0.3f\" % (scores_auc.mean(), scores_auc.std()))\n",
        "print(\"%0.3f Recall with a standard deviation of %0.3f\" % (scores_rec.mean(), scores_rec.std()))\n",
        "print(\"%0.3f Precision with a standard deviation of %0.3f\" % (scores_pre.mean(), scores_pre.std()))\n",
        "\n",
        "from sklearn.metrics import roc_curve\n",
        "import matplotlib.pyplot as plt\n",
        "\n",
        "test_probs = clf.predict_proba(X_test_scaled)\n",
        "fpr, tpr, _ = roc_curve(y_test, test_probs[:, 1])\n",
        "\n",
        "plt.plot(fpr,tpr)\n",
        "\n",
        "from sklearn.metrics import plot_confusion_matrix\n",
        "plot_confusion_matrix(clf ,X_test_scaled, y_test) #, clf.predict(X_test_scaled))"
      ],
      "metadata": {
        "colab": {
          "base_uri": "https://localhost:8080/",
          "height": 701
        },
        "id": "WTNdxgm6Ht5K",
        "outputId": "eb691f3c-f358-40f0-e26f-77f2ae10a36e"
      },
      "execution_count": null,
      "outputs": [
        {
          "output_type": "stream",
          "name": "stdout",
          "text": [
            "GridSearchCV Results : \n",
            "Best Accuracy occured whith:  {'penalty': 'l2', 'solver': 'newton-cg'}\n",
            "\n",
            " \n",
            " Cross_Validation Results : \n",
            "0.662 accuracy with a standard deviation of 0.025\n",
            "0.723 AUC with a standard deviation of 0.034\n",
            "0.560 Recall with a standard deviation of 0.058\n",
            "0.680 Precision with a standard deviation of 0.034\n"
          ]
        },
        {
          "output_type": "execute_result",
          "data": {
            "text/plain": [
              "<sklearn.metrics._plot.confusion_matrix.ConfusionMatrixDisplay at 0x7f11845eccd0>"
            ]
          },
          "metadata": {},
          "execution_count": 21
        },
        {
          "output_type": "display_data",
          "data": {
            "image/png": "[encoded data removed]",
            "text/plain": [
              "<Figure size 432x288 with 1 Axes>"
            ]
          },
          "metadata": {
            "needs_background": "light"
          }
        },
        {
          "output_type": "display_data",
          "data": {
            "image/png": "[encoded data removed]",
            "text/plain": [
              "<Figure size 432x288 with 2 Axes>"
            ]
          },
          "metadata": {
            "needs_background": "light"
          }
        }
      ]
    },
    {
      "cell_type": "markdown",
      "source": [
        "## Stages - logistic\n"
      ],
      "metadata": {
        "id": "mQmNkfVUl8BQ"
      }
    },
    {
      "cell_type": "code",
      "source": [
        "from sklearn.linear_model import LogisticRegression\n",
        "\n",
        "df_tot = pd.read_csv('/content/drive/My Drive/Speech project - Alzheimer/features_segmented55_2.csv')\n",
        "df_tot = df_tot.set_index(['ID'])\n",
        "df_tot = df_tot.dropna()\n",
        "X = df_tot[['MFCC2', 'kurt_MFCC30', 'mean_MFCC30', 'skew_MFCC2', 'mean_MFCC16',\n",
        "       'flt_bnk_eng22', 'MFCC30', 'kurt_MFCC16', 'flt_bnk_eng2','flt_bnk_eng24', 'MFCC1', 'flt_bnk_eng15', 'kurt_MFCC2',\n",
        "       'flt_bnk_eng20', 'flt_bnk_eng13', 'n_sil_segments', 'frac_silence','min_sil_len', 'jitter', 'shimmer', 'HNR']] #, 'auto_correlation']]\n",
        "y = df_tot[['Stage class']]\n",
        "\n",
        "import warnings\n",
        "warnings.filterwarnings(\"ignore\")\n",
        "\n",
        "cv = 8\n",
        "\n",
        "X_train, X_test, y_train, y_test = train_test_split(X, y, random_state = 0 , train_size=0.8)\n",
        "\n",
        "X = X_train\n",
        "y = y_train\n",
        "\n",
        "scaler = preprocessing.StandardScaler().fit(X)\n",
        "X_scaled = scaler.transform(X)\n",
        "X_test_scaled = scaler.transform(X_test)\n",
        "\n",
        "clf2 = LogisticRegression(random_state =0)\n",
        "clf2 = GridSearchCV(clf2 , param_grid={'penalty':['l1', 'l2'],'solver':['newton-cg', 'lbfgs', 'liblinear', 'sa', 'saga'] },cv=8) # ,random_state=0) #\n",
        "clf2.fit(X,y.values.ravel())\n",
        "print('GridSearchCV Results : ')\n",
        "print('Best Accuracy occured whith: ',clf2.best_params_)\n",
        "\n",
        "clf = LogisticRegression(solver='liblinear', penalty='l2' , random_state = 0)#RandomForestClassifier(max_features = 20, random_state = 0 , n_estimators=800 )\n",
        "model = clf.fit(X_scaled, y.values.ravel())#y)\n",
        "\n",
        "\n",
        "scores_acc = cross_val_score(clf, X_scaled, y.values.ravel(), cv=cv)\n",
        "scores_auc = cross_val_score(clf, X_scaled, y, cv=cv, scoring = 'roc_auc')\n",
        "scores_rec = cross_val_score(clf, X_scaled, y, cv=cv, scoring = 'recall')\n",
        "scores_pre = cross_val_score(clf, X_scaled, y, cv=cv, scoring = 'precision')\n",
        "\n",
        "print('\\n \\n Cross_Validation Results : ')\n",
        "print(\"%0.3f accuracy with a standard deviation of %0.3f\" % (scores_acc.mean(), scores_acc.std()))\n",
        "print(\"%0.3f AUC with a standard deviation of %0.3f\" % (scores_auc.mean(), scores_auc.std()))\n",
        "print(\"%0.3f Recall with a standard deviation of %0.3f\" % (scores_rec.mean(), scores_rec.std()))\n",
        "print(\"%0.3f Precision with a standard deviation of %0.3f\" % (scores_pre.mean(), scores_pre.std()))\n",
        "\n"
      ],
      "metadata": {
        "colab": {
          "base_uri": "https://localhost:8080/"
        },
        "id": "d7VPmw3Bl_QQ",
        "outputId": "f0ee5c3a-379b-4182-f402-af0d589b3082"
      },
      "execution_count": null,
      "outputs": [
        {
          "output_type": "stream",
          "name": "stdout",
          "text": [
            "GridSearchCV Results : \n",
            "Best Accuracy occured whith:  {'penalty': 'l2', 'solver': 'newton-cg'}\n",
            "\n",
            " \n",
            " Cross_Validation Results : \n",
            "0.567 accuracy with a standard deviation of 0.012\n",
            "nan AUC with a standard deviation of nan\n",
            "nan Recall with a standard deviation of nan\n",
            "nan Precision with a standard deviation of nan\n"
          ]
        }
      ]
    },
    {
      "cell_type": "code",
      "source": [
        ""
      ],
      "metadata": {
        "id": "WFIc6TH8wGAm"
      },
      "execution_count": null,
      "outputs": []
    },
    {
      "cell_type": "markdown",
      "source": [
        "# SVM model "
      ],
      "metadata": {
        "id": "lteTg7OnwGba"
      }
    },
    {
      "cell_type": "code",
      "source": [
        "# from sklearn.linear_model import LogisticRegression\n",
        "from sklearn import svm\n",
        "\n",
        "\n",
        "df_tot = pd.read_csv('/content/drive/My Drive/Speech project - Alzheimer/features_segmented55_2.csv')\n",
        "df_tot = df_tot.set_index(['ID'])\n",
        "df_tot = df_tot.dropna()\n",
        "X = df_tot[['MFCC2', 'kurt_MFCC30', 'mean_MFCC30', 'skew_MFCC2', 'mean_MFCC16',\n",
        "       'flt_bnk_eng22', 'MFCC30', 'kurt_MFCC16', 'flt_bnk_eng2','flt_bnk_eng24', 'MFCC1', 'flt_bnk_eng15', 'kurt_MFCC2',\n",
        "       'flt_bnk_eng20', 'flt_bnk_eng13', 'n_sil_segments', 'frac_silence','min_sil_len', 'jitter', 'shimmer', 'HNR']] #, 'auto_correlation']]\n",
        "y = df_tot[['ad/cn']]\n",
        "\n",
        "import warnings\n",
        "warnings.filterwarnings(\"ignore\")\n",
        "\n",
        "cv = 8\n",
        "\n",
        "X_train, X_test, y_train, y_test = train_test_split(X, y, random_state = 0 , train_size=0.8)\n",
        "\n",
        "X = X_train\n",
        "y = y_train\n",
        "\n",
        "scaler = preprocessing.StandardScaler().fit(X)\n",
        "X_scaled = scaler.transform(X)\n",
        "X_test_scaled = scaler.transform(X_test)\n",
        "\n",
        "clf = svm.SVC(probability=True)#LogisticRegression(solver='liblinear', penalty='l2' , random_state = 0)#RandomForestClassifier(max_features = 20, random_state = 0 , n_estimators=800 )\n",
        "model = clf.fit(X_scaled, y.values.ravel())#y)\n",
        "\n",
        "\n",
        "scores_acc = cross_val_score(clf, X_scaled, y.values.ravel(), cv=cv)\n",
        "scores_auc = cross_val_score(clf, X_scaled, y, cv=cv, scoring = 'roc_auc')\n",
        "scores_rec = cross_val_score(clf, X_scaled, y, cv=cv, scoring = 'recall')\n",
        "scores_pre = cross_val_score(clf, X_scaled, y, cv=cv, scoring = 'precision')\n",
        "\n",
        "\n",
        "print('\\n \\n Cross_Validation Results : ')\n",
        "print(\"%0.3f accuracy with a standard deviation of %0.3f\" % (scores_acc.mean(), scores_acc.std()))\n",
        "print(\"%0.3f AUC with a standard deviation of %0.3f\" % (scores_auc.mean(), scores_auc.std()))\n",
        "print(\"%0.3f Recall with a standard deviation of %0.3f\" % (scores_rec.mean(), scores_rec.std()))\n",
        "print(\"%0.3f Precision with a standard deviation of %0.3f\" % (scores_pre.mean(), scores_pre.std()))\n",
        "\n",
        "from sklearn.metrics import roc_curve\n",
        "import matplotlib.pyplot as plt\n",
        "\n",
        "test_probs = clf.predict_proba(X_test_scaled)\n",
        "fpr, tpr, _ = roc_curve(y_test, test_probs[:, 1])\n",
        "\n",
        "plt.plot(fpr,tpr)\n",
        "\n",
        "from sklearn.metrics import plot_confusion_matrix\n",
        "plot_confusion_matrix(clf ,X_test_scaled, y_test) #, clf.predict(X_test_scaled))"
      ],
      "metadata": {
        "colab": {
          "base_uri": "https://localhost:8080/",
          "height": 666
        },
        "outputId": "5b2df941-0504-4e95-fc65-64a174979f46",
        "id": "FnlBMvATwGbb"
      },
      "execution_count": null,
      "outputs": [
        {
          "output_type": "stream",
          "name": "stdout",
          "text": [
            "\n",
            " \n",
            " Cross_Validation Results : \n",
            "0.786 accuracy with a standard deviation of 0.022\n",
            "0.865 AUC with a standard deviation of 0.029\n",
            "0.771 Recall with a standard deviation of 0.034\n",
            "0.782 Precision with a standard deviation of 0.034\n"
          ]
        },
        {
          "output_type": "execute_result",
          "data": {
            "text/plain": [
              "<sklearn.metrics._plot.confusion_matrix.ConfusionMatrixDisplay at 0x7fa191986650>"
            ]
          },
          "metadata": {},
          "execution_count": 4
        },
        {
          "output_type": "display_data",
          "data": {
            "image/png": "[encoded data removed]",
            "text/plain": [
              "<Figure size 432x288 with 1 Axes>"
            ]
          },
          "metadata": {
            "needs_background": "light"
          }
        },
        {
          "output_type": "display_data",
          "data": {
            "image/png": "[encoded data removed]",
            "text/plain": [
              "<Figure size 432x288 with 2 Axes>"
            ]
          },
          "metadata": {
            "needs_background": "light"
          }
        }
      ]
    },
    {
      "cell_type": "markdown",
      "source": [
        "## Stages - svm\n"
      ],
      "metadata": {
        "id": "2oDUYeZlwGbc"
      }
    },
    {
      "cell_type": "code",
      "source": [
        "# from sklearn.linear_model import LogisticRegression\n",
        "from sklearn import svm\n",
        "\n",
        "\n",
        "df_tot = pd.read_csv('/content/drive/My Drive/Speech project - Alzheimer/features_segmented55_2.csv')\n",
        "df_tot = df_tot.set_index(['ID'])\n",
        "df_tot = df_tot.dropna()\n",
        "X = df_tot[['MFCC2', 'kurt_MFCC30', 'mean_MFCC30', 'skew_MFCC2', 'mean_MFCC16',\n",
        "       'flt_bnk_eng22', 'MFCC30', 'kurt_MFCC16', 'flt_bnk_eng2','flt_bnk_eng24', 'MFCC1', 'flt_bnk_eng15', 'kurt_MFCC2',\n",
        "       'flt_bnk_eng20', 'flt_bnk_eng13', 'n_sil_segments', 'frac_silence','min_sil_len', 'jitter', 'shimmer', 'HNR']] #, 'auto_correlation']]\n",
        "y = df_tot[['Stage class']]\n",
        "\n",
        "import warnings\n",
        "warnings.filterwarnings(\"ignore\")\n",
        "\n",
        "cv = 8\n",
        "\n",
        "X_train, X_test, y_train, y_test = train_test_split(X, y, random_state = 0 , train_size=0.8)\n",
        "\n",
        "X = X_train\n",
        "y = y_train\n",
        "\n",
        "scaler = preprocessing.StandardScaler().fit(X)\n",
        "X_scaled = scaler.transform(X)\n",
        "X_test_scaled = scaler.transform(X_test)\n",
        "\n",
        "clf = svm.SVC(probability=True)#LogisticRegression(solver='liblinear', penalty='l2' , random_state = 0)#RandomForestClassifier(max_features = 20, random_state = 0 , n_estimators=800 )\n",
        "model = clf.fit(X_scaled, y.values.ravel())#y)\n",
        "\n",
        "\n",
        "scores_acc = cross_val_score(clf, X_scaled, y.values.ravel(), cv=cv)\n",
        "scores_auc = cross_val_score(clf, X_scaled, y, cv=cv, scoring = 'roc_auc')\n",
        "scores_rec = cross_val_score(clf, X_scaled, y, cv=cv, scoring = 'recall')\n",
        "scores_pre = cross_val_score(clf, X_scaled, y, cv=cv, scoring = 'precision')\n",
        "\n",
        "print('\\n \\n Cross_Validation Results : ')\n",
        "print(\"%0.3f accuracy with a standard deviation of %0.3f\" % (scores_acc.mean(), scores_acc.std()))\n",
        "\n",
        "from sklearn.metrics import roc_curve\n",
        "import matplotlib.pyplot as plt\n",
        "\n",
        "from sklearn.metrics import plot_confusion_matrix\n",
        "plot_confusion_matrix(clf ,X_test_scaled, y_test) #, clf.predict(X_test_scaled))"
      ],
      "metadata": {
        "colab": {
          "base_uri": "https://localhost:8080/",
          "height": 366
        },
        "outputId": "71ebe852-e3f4-42c9-b72d-de5c1cc58cac",
        "id": "-WLINdTmwGbc"
      },
      "execution_count": null,
      "outputs": [
        {
          "output_type": "stream",
          "name": "stdout",
          "text": [
            "\n",
            " \n",
            " Cross_Validation Results : \n",
            "0.652 accuracy with a standard deviation of 0.020\n"
          ]
        },
        {
          "output_type": "execute_result",
          "data": {
            "text/plain": [
              "<sklearn.metrics._plot.confusion_matrix.ConfusionMatrixDisplay at 0x7fa1abdfe3d0>"
            ]
          },
          "metadata": {},
          "execution_count": 6
        },
        {
          "output_type": "display_data",
          "data": {
            "image/png": "[encoded data removed]",
            "text/plain": [
              "<Figure size 432x288 with 2 Axes>"
            ]
          },
          "metadata": {
            "needs_background": "light"
          }
        }
      ]
    }
  ]
}